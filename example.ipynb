{
 "cells": [
  {
   "cell_type": "code",
   "execution_count": 1,
   "metadata": {},
   "outputs": [],
   "source": [
    "import time\n",
    "\n",
    "from src.client import ClientSideExchanger, Encryptor\n",
    "from src.server import ServerSideExchanger, Decryptor\n",
    "\n",
    "server_exchanger = ServerSideExchanger()"
   ]
  },
  {
   "cell_type": "code",
   "execution_count": 2,
   "metadata": {},
   "outputs": [
    {
     "name": "stdout",
     "output_type": "stream",
     "text": [
      "Client side\n",
      "Plain text: b'This is a secret.'\n",
      "Cipher text: e4c78814c01ea955a2aaa925e55bade9e0\n",
      "Time to encrypt: 0.0\n"
     ]
    }
   ],
   "source": [
    "# Perform key exchange using ECDH\n",
    "client_exchanger = ClientSideExchanger()\n",
    "client_exchanger.derive(server_exchanger.public_key)\n",
    "plaintext = b'This is a secret.'\n",
    "start = time.time()\n",
    "nonce, ciphertext = Encryptor.encrypt(plaintext, client_exchanger.derived_key)\n",
    "end = time.time()\n",
    "print(\n",
    "    'Client side\\n'\n",
    "    f'Plain text: {plaintext}\\n'\n",
    "    f'Cipher text: {ciphertext.hex()}\\n'\n",
    "    f'Time to encrypt: {end - start}'\n",
    ")"
   ]
  },
  {
   "cell_type": "code",
   "execution_count": 3,
   "metadata": {},
   "outputs": [
    {
     "name": "stdout",
     "output_type": "stream",
     "text": [
      "\n",
      "Server side\n",
      "Decrypted text: b'This is a secret.'\n"
     ]
    }
   ],
   "source": [
    "derived_key = server_exchanger.derive(client_exchanger.public_key)\n",
    "server_plaintext = Decryptor.decrypt(ciphertext, derived_key, nonce)\n",
    "print(f'\\nServer side\\nDecrypted text: {server_plaintext}')"
   ]
  }
 ],
 "metadata": {
  "kernelspec": {
   "display_name": ".vene",
   "language": "python",
   "name": "python3"
  },
  "language_info": {
   "codemirror_mode": {
    "name": "ipython",
    "version": 3
   },
   "file_extension": ".py",
   "mimetype": "text/x-python",
   "name": "python",
   "nbconvert_exporter": "python",
   "pygments_lexer": "ipython3",
   "version": "3.10.0"
  }
 },
 "nbformat": 4,
 "nbformat_minor": 2
}
